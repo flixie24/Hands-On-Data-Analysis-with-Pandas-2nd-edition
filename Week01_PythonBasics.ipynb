{
  "cells": [
    {
      "cell_type": "markdown",
      "metadata": {
        "id": "view-in-github",
        "colab_type": "text"
      },
      "source": [
        "<a href=\"https://colab.research.google.com/github/flixie24/Hands-On-Data-Analysis-with-Pandas-2nd-edition/blob/master/Week01_PythonBasics.ipynb\" target=\"_parent\"><img src=\"https://colab.research.google.com/assets/colab-badge.svg\" alt=\"Open In Colab\"/></a>"
      ]
    },
    {
      "cell_type": "markdown",
      "metadata": {
        "id": "a5rR_WdRdVqI"
      },
      "source": [
        "# Python basics\n",
        "\n",
        "## Goal\n",
        "+ Giving some basic definitions\n",
        "+ Provides the absolute basics $\\rightarrow$ more information in the book and on several websites that are linked\n",
        "+ Make sure, you know the commands/examples we show here\n",
        "\n",
        "## Variables\n",
        "* In python, a variable is a like tag or reference that points to an object in the memory.\n",
        "* Python has no command for declaring a variable (unlike in other programming languages such as C++). A variable is created the moment you first assign a value to it.\n",
        "* Can have a short name (like x and y) or a more descriptive name (age, carname, total_volume). Rules for Python variables:\n",
        "    + Must start with a letter or the underscore character\n",
        "    + Cannot start with a number\n",
        "    + Can only contain alpha-numeric characters and underscores (A-z, 0-9, and _ )\n",
        "    + Are case-sensitive (age, Age and AGE are three different variables)"
      ]
    },
    {
      "cell_type": "code",
      "execution_count": null,
      "metadata": {
        "id": "9RX9hgdddVqJ"
      },
      "outputs": [],
      "source": [
        "n = 15\n",
        "name = 'Matthias'\n",
        "surname = 'Baumann'"
      ]
    },
    {
      "cell_type": "markdown",
      "metadata": {
        "id": "jqIEjeM0dVqK"
      },
      "source": [
        "## Data types\n",
        "* A data type is a set of possible values and a set of allowed operations on it.\n",
        "* We will mainly focus on four data types during the course\n",
        "\n",
        "<style>\n",
        "\t.demo {\n",
        "\t\tborder:1px solid #C0C0C0;\n",
        "\t\tborder-collapse:collapse;\n",
        "\t\tpadding:5px;\n",
        "\t}\n",
        "\t.demo th {\n",
        "\t\tborder:1px solid #C0C0C0;\n",
        "\t\tpadding:5px;\n",
        "\t\tbackground:#F0F0F0;\n",
        "\t}\n",
        "\t.demo td {\n",
        "\t\tborder:1px solid #C0C0C0;\n",
        "\t\tpadding:5px;\n",
        "\t}\n",
        "</style>\n",
        "<table class=\"demo\">\n",
        "\t<caption>Table 1</caption>\n",
        "\t<thead>\n",
        "\t<tr>\n",
        "\t\t<th>type</th>\n",
        "\t\t<th>python</th>\n",
        "\t\t<th>pandas<br></th>\n",
        "\t\t<th>numpy</th>\n",
        "\t</tr>\n",
        "\t</thead>\n",
        "\t<tbody>\n",
        "\t<tr>\n",
        "\t\t<td>&nbsp;integer</td>\n",
        "\t\t<td>int <br></td>\n",
        "\t\t<td>&nbsp;int64</td>\n",
        "\t\t<td>&nbsp;int_,int8,int16,int32,int64</td>\n",
        "\t</tr>\n",
        "\t<tr>\n",
        "\t\t<td>&nbsp;float</td>\n",
        "\t\t<td>&nbsp;float</td>\n",
        "\t\t<td>&nbsp;float64</td>\n",
        "\t\t<td>&nbsp;float_,float16,float32,float64</td>\n",
        "\t</tr>\n",
        "\t<tr>\n",
        "\t\t<td>&nbsp;string</td>\n",
        "\t\t<td>&nbsp;str</td>\n",
        "\t\t<td>&nbsp;object</td>\n",
        "\t\t<td>&nbsp;string_</td>\n",
        "\t</tr>\n",
        "\t<tr>\n",
        "\t\t<td>&nbsp;bolean</td>\n",
        "\t\t<td>&nbsp;bool</td>\n",
        "\t\t<td>&nbsp;bool</td>\n",
        "\t\t<td>&nbsp;bool_</td>\n",
        "\t</tr>\n",
        "\t</tbody>\n",
        "</table>\n",
        "\n",
        "\n",
        "\n",
        "\n",
        "* In python, *lists*, *tuples*, *sets*, and *dictionaries* (all described later) are considered data types as well"
      ]
    },
    {
      "cell_type": "code",
      "execution_count": null,
      "metadata": {
        "id": "QHTALcqJdVqL"
      },
      "outputs": [],
      "source": [
        "x = 1\n",
        "y = 2.8\n",
        "name = 'Matthias'\n",
        "male = True"
      ]
    },
    {
      "cell_type": "markdown",
      "metadata": {
        "id": "u1r5moundVqM"
      },
      "source": [
        "* We can *ask* / test python for a data type of a variable"
      ]
    },
    {
      "cell_type": "code",
      "execution_count": null,
      "metadata": {
        "id": "eIhL-lKjdVqM"
      },
      "outputs": [],
      "source": [
        "type(y)"
      ]
    },
    {
      "cell_type": "markdown",
      "metadata": {
        "id": "DDY9aaADdVqM"
      },
      "source": [
        "## Operators\n",
        "Operators are used to do something with variables and values. *Python* divides the operators in the following groups:\n",
        "1. Arithmetic operators $\\rightarrow$ e.g., $+, -, *, /$\n",
        "2. Assignment operators $\\rightarrow$ e.g., $=$, $+=$\n",
        "3. Comparison operators $\\rightarrow$ e.g., *=*, *!=*\n",
        "4. Logical operators $\\rightarrow$ *and, or, not*\n",
        "5. Identity operators $\\rightarrow$ *is, is not*\n",
        "6. Membership operators $\\rightarrow$ *in, not in*\n",
        "7. Bitwise operators $\\rightarrow$ e.g., *&, |*"
      ]
    },
    {
      "cell_type": "code",
      "execution_count": null,
      "metadata": {
        "cell_style": "center",
        "id": "zOlTtFjNdVqM"
      },
      "outputs": [],
      "source": [
        "x = 1\n",
        "y = 2.8\n",
        "name = 'Matthias'\n",
        "male = True"
      ]
    },
    {
      "cell_type": "code",
      "execution_count": null,
      "metadata": {
        "cell_style": "center",
        "id": "JC6XVTEGdVqN"
      },
      "outputs": [],
      "source": [
        "z = x + y\n",
        "z"
      ]
    },
    {
      "cell_type": "markdown",
      "metadata": {
        "id": "C9gAQhl8dVqN"
      },
      "source": [
        "## Lists\n",
        "* Often, we will work in the class with collections of data --> primarily *lists*, and *dictionaries*\n",
        "* A list is an **ordered** collection of items that can be accessed via their index $\\rightarrow$ the first item has the index 0!\n",
        "* A list is dynamic: one can add multiple elements to it and update or delete elements. Also, one doesn’t need to predefine the size of the list. One can insert any number of items in the list, and it can dynamically increase its size internally.\n",
        "* Lists are written with square brackets"
      ]
    },
    {
      "cell_type": "code",
      "execution_count": null,
      "metadata": {
        "id": "5DTiSNZ5dVqO"
      },
      "outputs": [],
      "source": [
        "list_of_ints = [11, 13, 26, 90, 5, 22, 13]\n",
        "list_of_ints"
      ]
    },
    {
      "cell_type": "code",
      "execution_count": null,
      "metadata": {
        "cell_style": "center",
        "id": "c1O7AzSldVqO"
      },
      "outputs": [],
      "source": [
        "# access item\n",
        "list_of_ints[0]"
      ]
    },
    {
      "cell_type": "code",
      "execution_count": null,
      "metadata": {
        "id": "sw0madcedVqP"
      },
      "outputs": [],
      "source": [
        "# add item to list\n",
        "list_of_ints.append(87)\n",
        "list_of_ints"
      ]
    },
    {
      "cell_type": "code",
      "execution_count": null,
      "metadata": {
        "cell_style": "center",
        "id": "8Fw_8GJTdVqP"
      },
      "outputs": [],
      "source": [
        "# remove item from list --> here '3' is the index of the item we want to remove\n",
        "list_of_ints.pop(3)\n",
        "list_of_ints"
      ]
    },
    {
      "cell_type": "code",
      "execution_count": null,
      "metadata": {
        "cell_style": "center",
        "id": "SbHOQP7cdVqP"
      },
      "outputs": [],
      "source": [
        "# Use 'remove' to remove the first instance of a value\n",
        "list_of_ints.remove(13)\n",
        "list_of_ints"
      ]
    },
    {
      "cell_type": "markdown",
      "metadata": {
        "id": "xbT06QkFdVqP"
      },
      "source": [
        "* A list can also contain lists with data $\\rightarrow$ important when an item is composed of several pieces of information.\n",
        "* One can access each individual item by checking the index"
      ]
    },
    {
      "cell_type": "code",
      "execution_count": null,
      "metadata": {
        "id": "zfrPK8PydVqQ"
      },
      "outputs": [],
      "source": [
        "ints_and_strings = [['item1', 4], ['item2', 4], ['item3', 5]]\n",
        "ints_and_strings[0][0]"
      ]
    },
    {
      "cell_type": "markdown",
      "metadata": {
        "id": "IHSkadObdVqQ"
      },
      "source": [
        "* Wherever we are looking for a heterogeneous data structure that can dynamically change its size, keep elements ordered, and contain duplicates, a list is a perfect choice.\n",
        "* Disadvantage of lists: access of individual list items only possible through direct indexing"
      ]
    },
    {
      "cell_type": "markdown",
      "metadata": {
        "id": "DiAiE0vUdVqQ"
      },
      "source": [
        "## Dictionaries\n",
        "* Dictionaries are collections which are unordered, changeable and indexed. They cannot contain duplicates.\n",
        "* Dictionaries are important for certain data types (json, geojson, ee.FeatureCollection() )\n",
        "* A dictionary keeps the elements in key-value mapping format and internally uses hashing for it; therefore, we can get a value from the dictionary by its key very quickly.\n",
        "* To create a dictionary, we can use curly brackets"
      ]
    },
    {
      "cell_type": "code",
      "execution_count": null,
      "metadata": {
        "id": "Gr9liHJIdVqQ"
      },
      "outputs": [],
      "source": [
        "profs = {\"Dirk\": ['EOL', 8],\n",
        "             \"Matthias\": ['Biogeo', 4]}\n",
        "profs"
      ]
    },
    {
      "cell_type": "markdown",
      "metadata": {
        "id": "xZiKVNR_dVqQ"
      },
      "source": [
        "**Important points regarding dictionaries**\n",
        "* Keys are always unique in the dictionary\n",
        "* Once a key-value pair is added in the dictionary then it cannot modify the key itself, although we can change the value associated with it."
      ]
    },
    {
      "cell_type": "markdown",
      "metadata": {
        "id": "WEmXV7wVdVqQ"
      },
      "source": [
        "* We can update a dictionary adding additional entries"
      ]
    },
    {
      "cell_type": "code",
      "execution_count": null,
      "metadata": {
        "cell_style": "center",
        "id": "aklm1nX3dVqR"
      },
      "outputs": [],
      "source": [
        "profs['Patrick'] = 'EOL'\n",
        "profs"
      ]
    },
    {
      "cell_type": "code",
      "execution_count": null,
      "metadata": {
        "cell_style": "center",
        "id": "yhJGGdV5dVqS"
      },
      "outputs": [],
      "source": [
        "profs.update({'Tobias': ['Biogeo', 9]})\n",
        "profs"
      ]
    },
    {
      "cell_type": "markdown",
      "metadata": {
        "id": "brfwfM-ydVqS"
      },
      "source": [
        "* Dictionaries may sound not so intuitive at the beginning, but you have a more detailed look at them $\\rightarrow$ they make a lot of sense\n",
        "\n",
        "\n",
        "--> add tupel for next year"
      ]
    },
    {
      "cell_type": "markdown",
      "metadata": {
        "id": "jNn7RcVTdVqS"
      },
      "source": [
        "## Loops\n",
        "*loops* are great to repeat the same operation several times. *python* offers two general types of loops:\n",
        "\n",
        "### *while*-loop\n",
        "* within a *while*-loop we can execute a set of operations as long as a condition is true.\n",
        "* A while statement starts with a while keyword followed by a condition and a colon in the end. After the while statement, the block of the while loop starts. It includes a group of statements with one indent level."
      ]
    },
    {
      "cell_type": "code",
      "execution_count": null,
      "metadata": {
        "id": "_hnv5rpRdVqS"
      },
      "outputs": [],
      "source": [
        "i = 1\n",
        "g = 15\n",
        "while i < g:\n",
        "    print('i equals', str(i), 'which is smaller than ', str(g))\n",
        "    i += 1\n",
        "print('Now, i equals', str(i), 'which is not smaller than ', str(g))"
      ]
    },
    {
      "cell_type": "markdown",
      "metadata": {
        "id": "WrFfepPAdVqS"
      },
      "source": [
        "### for*-loop\n",
        "* a *for*-loop in python is useful when iterating over a sequence of elements\n",
        "* “for” keyword is followed by a variable, then the “in” keyword, then a sequence, and in last, a colon. After the for statement starts the suite of for loop, i.e., a group of statements with one indent level, it is also called the block of for loop."
      ]
    },
    {
      "cell_type": "code",
      "execution_count": null,
      "metadata": {
        "cell_style": "center",
        "id": "5EfcTg1AdVqT"
      },
      "outputs": [],
      "source": [
        "# Let's get back to our example of ints\n",
        "list_of_ints"
      ]
    },
    {
      "cell_type": "code",
      "execution_count": null,
      "metadata": {
        "cell_style": "center",
        "id": "q0oihDu1dVqT"
      },
      "outputs": [],
      "source": [
        "# Mutliply each element with 5, print\n",
        "for i in list_of_ints:\n",
        "    print(i, i*5)"
      ]
    },
    {
      "cell_type": "markdown",
      "metadata": {
        "id": "kXdBG8b0dVqT"
      },
      "source": [
        "* Iterating over a dictionary is a bit more complicated"
      ]
    },
    {
      "cell_type": "code",
      "execution_count": null,
      "metadata": {
        "id": "QT5x0ImtdVqT"
      },
      "outputs": [],
      "source": [
        "for key, value in profs.items():\n",
        "    print(value)"
      ]
    },
    {
      "cell_type": "markdown",
      "metadata": {
        "id": "jaS9BSegdVqT"
      },
      "source": [
        "## List comprehension\n",
        "List comprehensions are a elegant way to compress a list-building for loop into a single line. It is comparable to the mathmatic notation of sets $\\rightarrow$ in mathmatics, the quadratics of natural numbers are defined as: $\\{x^{2} | \\text{ x } \\in \\mathbb{N}\\}$"
      ]
    },
    {
      "cell_type": "code",
      "execution_count": null,
      "metadata": {
        "id": "SjCgNlJBdVqU"
      },
      "outputs": [],
      "source": [
        "[n ** 2 for n in range(1,12)]"
      ]
    },
    {
      "cell_type": "markdown",
      "metadata": {
        "id": "s31RbWdPdVqU"
      },
      "source": [
        "* The statement is almost readable in plain English: “construct a list consisting of the square of n for each n up to 12”.\n",
        "* This basic syntax is: * [**expr** for **var** in **iterable**] *, where\n",
        "    * **expr** is any valid expression\n",
        "    * **var** is a variable name\n",
        "    * **iterable** is any iterable Python object.\n",
        "* We are free to do whatever we want in the **expr**"
      ]
    },
    {
      "cell_type": "markdown",
      "metadata": {
        "id": "0x0yw1vHdVqU"
      },
      "source": [
        "## Functions\n",
        "* Functions are generally helpful when you realize that you reuse the same bits of code over and over. Functions have the advantage that they can (a) be easily transfered between scripts, (b) developed towards \"tools\".\n",
        "* A function always starts with *def* followed by the function name. In the parentheses come the arguments that the function require; these are followed by a colon.\n",
        "* Inside the function (with an indent) we write the block of the function. The *return*-statement defines which value the function should return"
      ]
    },
    {
      "cell_type": "code",
      "execution_count": null,
      "metadata": {
        "id": "ZJjzJAugdVqU"
      },
      "outputs": [],
      "source": [
        "def Square(x):\n",
        "    sq = x * x\n",
        "    return [x, sq]\n",
        "Square(9)"
      ]
    },
    {
      "cell_type": "markdown",
      "metadata": {
        "id": "f17HaPCYdVqU"
      },
      "source": [
        "* We can also loop over a list and execute the function"
      ]
    },
    {
      "cell_type": "code",
      "execution_count": null,
      "metadata": {
        "cell_style": "center",
        "id": "ivnjmM5FdVqV"
      },
      "outputs": [],
      "source": [
        "for i in list_of_ints:\n",
        "    print(Square(i))"
      ]
    },
    {
      "cell_type": "markdown",
      "metadata": {
        "id": "lS-mErvSdVqV"
      },
      "source": [
        "## if/else-clauses\n",
        "* In python, by default, statements are executed in sequential order, i.e., one after another. For example:"
      ]
    },
    {
      "cell_type": "code",
      "execution_count": null,
      "metadata": {
        "id": "P8Kvw_9rdVqV"
      },
      "outputs": [],
      "source": [
        "x = 18                              # Statement 1\n",
        "print('Value of x is: ', x)         # Statement 2\n",
        "print('x is less than 10')          # Statement 3\n",
        "print('x is a single digit number') # Statement 4\n",
        "print('This is last line')          # Statement 5"
      ]
    },
    {
      "cell_type": "markdown",
      "metadata": {
        "id": "Z5ZdqeJUdVqV"
      },
      "source": [
        "* Often, we don't want to run all links sequentially, but we want to introduce conditions (i.e., do some decision making) and execute specific statements at the correct time (i.e., only when the condition is fullfilled.\n",
        "* *if*-statements are allowing for this. Thereby, the “if” keyword is always be followed by a conditional expression, which should evaluate to a bool value, i.e., either True or False. If the condition evaluates to True, then the interpreter executes the statements in “if” suite, i.e., the code statements in the if-block. Whereas if the condition evaluates to False, then the interpreter skips the lines in the if-block and jumps directly to the end of if-block."
      ]
    },
    {
      "cell_type": "code",
      "execution_count": null,
      "metadata": {
        "id": "y-T76cvNdVqV"
      },
      "outputs": [],
      "source": [
        "x = 6\n",
        "print('Value of x is: ', x)\n",
        "if x < 10:\n",
        "    print('x is less than 10')\n",
        "    print('x is a single digit number')\n",
        "print('This is last line')"
      ]
    },
    {
      "cell_type": "markdown",
      "metadata": {
        "id": "wkGzf6HodVqW"
      },
      "source": [
        "* We can do this also with multiple conditions (exemplify above)"
      ]
    },
    {
      "cell_type": "markdown",
      "metadata": {
        "id": "eUtyCA9udVqW"
      },
      "source": [
        "* The *if/else* clause is an extension of the *if*-statement. Instead of skipping the code block, it introduces and alternative codeblock (pathway) for the code to run"
      ]
    },
    {
      "cell_type": "code",
      "execution_count": null,
      "metadata": {
        "id": "p1u59wQldVqW"
      },
      "outputs": [],
      "source": [
        "x = 4\n",
        "if x < 10:\n",
        "    print('x is less than 10')\n",
        "else:\n",
        "    print('x is larger than 10')"
      ]
    },
    {
      "cell_type": "code",
      "execution_count": null,
      "metadata": {
        "id": "NzgvZs-mdVqW"
      },
      "outputs": [],
      "source": []
    }
  ],
  "metadata": {
    "celltoolbar": "Slideshow",
    "kernelspec": {
      "display_name": "Python 3 (ipykernel)",
      "language": "python",
      "name": "python3"
    },
    "language_info": {
      "codemirror_mode": {
        "name": "ipython",
        "version": 3
      },
      "file_extension": ".py",
      "mimetype": "text/x-python",
      "name": "python",
      "nbconvert_exporter": "python",
      "pygments_lexer": "ipython3",
      "version": "3.10.8"
    },
    "rise": {
      "backimage": "Abbildungen/background_ALL.jpg",
      "scroll": true
    },
    "colab": {
      "provenance": [],
      "include_colab_link": true
    }
  },
  "nbformat": 4,
  "nbformat_minor": 0
}